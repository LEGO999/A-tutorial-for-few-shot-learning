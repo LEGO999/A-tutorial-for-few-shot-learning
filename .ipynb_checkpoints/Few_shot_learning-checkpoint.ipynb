{
 "cells": [
  {
   "cell_type": "markdown",
   "metadata": {},
   "source": [
    "# Supplementrary code: an tutorial for few-shot learning #"
   ]
  },
  {
   "cell_type": "code",
   "execution_count": 1,
   "metadata": {},
   "outputs": [],
   "source": [
    "import torch\n",
    "import torch.nn as nn\n",
    "import torch.nn.functional as F\n",
    "import torch.optim as optim\n",
    "from torch.optim import lr_scheduler\n",
    "import torchvision\n",
    "import time\n",
    "import random\n",
    "from tqdm.autonotebook import tqdm\n",
    "import numpy as np\n",
    "import torchvision.transforms as transforms\n",
    "import matplotlib.pyplot as plt\n",
    "from torch.utils.data import Dataset\n",
    "from resnet import resnet18"
   ]
  },
  {
   "cell_type": "code",
   "execution_count": 2,
   "metadata": {},
   "outputs": [],
   "source": [
    "# fix seed for reproducibility\n",
    "seed = 0\n",
    "random.seed(seed)\n",
    "np.random.seed(seed)\n",
    "torch.manual_seed(seed)\n",
    "torch.cuda.manual_seed(seed)\n",
    "\n",
    "# set up device\n",
    "\n",
    "device = 'cuda' if torch.cuda.is_available() else 'cpu'\n",
    "torch.backends.cudnn.benchmark = True\n",
    "\n",
    "plt.style.use('grayscale')"
   ]
  },
  {
   "cell_type": "code",
   "execution_count": 3,
   "metadata": {},
   "outputs": [],
   "source": [
    "# some hyper-parameters to play around\n",
    "BATCH_SIZE = 256\n",
    "NUM_WORKERS = 8\n",
    "NUM_WAY = 5"
   ]
  },
  {
   "cell_type": "code",
   "execution_count": 4,
   "metadata": {},
   "outputs": [],
   "source": [
    "# sample anchors, positive and negative samples for triplet loss\n",
    "class TripletBatchSampler(torch.utils.data.Sampler):\n",
    "    def __init__(self, dataset, batch_size):\n",
    "        self.dataset = dataset\n",
    "        self.batch_size = batch_size\n",
    "        # obtain labels for all samples sequentially\n",
    "        self.label = [label for _, label in self.dataset._flat_character_images]\n",
    "        \n",
    "    def __iter__(self):\n",
    "        indices = list(range(len(self.dataset)))\n",
    "        # obtain indices of samples and their corresponding labels\n",
    "        target_with_indices = list(zip(indices, self.label))\n",
    "        # shuffle data\n",
    "        random.shuffle(target_with_indices)\n",
    "        num_class = max(self.label)+1\n",
    "        # obtain indices of samples from each class and save into the dictionary\n",
    "        class_dict = {k: [] for k in range(num_class)}\n",
    "        for (sample_idx, class_idx) in target_with_indices:\n",
    "            class_dict[class_idx].append(sample_idx)\n",
    "\n",
    "        for k in range(len(self)):\n",
    "            offset = k * self.batch_size\n",
    "            # sample anchors and get their labels\n",
    "            anchor_indices, class_indices = zip(*target_with_indices[offset:offset+self.batch_size])\n",
    "            anchor_indices = list(anchor_indices)\n",
    "            positive_indices = []\n",
    "            negative_indices = []\n",
    "            for class_idx in class_indices:\n",
    "                # sample a postive sample which have the same classes as the anchor\n",
    "                positive_indices.append(random.choice(class_dict[class_idx]))\n",
    "                # create a list which excludes the anchor class\n",
    "                absent_list = list(range(num_class))\n",
    "                absent_list.remove(class_idx)\n",
    "                # choose a negative class randomly\n",
    "                negative_class = random.choice(absent_list)\n",
    "                # sample a negative samples from the chosen negative class\n",
    "                negative_indices.append(random.choice(class_dict[negative_class]))\n",
    "            yield anchor_indices + positive_indices + negative_indices\n",
    "\n",
    "    def __len__(self):\n",
    "        return len(self.dataset) // self.batch_size + 1"
   ]
  },
  {
   "cell_type": "code",
   "execution_count": 5,
   "metadata": {},
   "outputs": [],
   "source": [
    "class OneShotEvalDS(Dataset):\n",
    "    def __init__(self, dataset, num_way, transform=None):\n",
    "        self.dataset = dataset\n",
    "        self.num_way = num_way\n",
    "        self.transform = transform\n",
    "        self.label = [label for _, label in self.dataset._flat_character_images]\n",
    "        self.num_class = max(self.label)+1\n",
    "        self.class_dict = {k: [] for k in range(self.num_class)}\n",
    "        indices = list(range(len(self.dataset)))\n",
    "        target_with_indices = list(zip(indices, self.label))\n",
    "        for (sample_idx, class_idx) in target_with_indices:\n",
    "            self.class_dict[class_idx].append(sample_idx)\n",
    "    def __getitem__(self, idx):\n",
    "        query_img, label = self.dataset.__getitem__(idx)\n",
    "        absent_list = list(range(self.num_class))\n",
    "        absent_list.remove(label)\n",
    "        # sample samples of the support set. One sample comes from exactly the same class and (num_way - 1) samples come from other classes.\n",
    "        support_classes = [label] + [random.choice(absent_list) for i in range(self.num_way-1)]\n",
    "        support_indices = [random.choice(self.class_dict[support_class]) for support_class in support_classes]\n",
    "        support_samples = [self.dataset.__getitem__(i)[0] for i in support_indices]\n",
    "        if self.transform:\n",
    "            return self.transform(query_img), torch.stack([self.transform(sample) for sample in support_samples], dim=0)\n",
    "        else:\n",
    "            return query_img, torch.stack(support_samples, dim=0)\n",
    "    def __len__(self):\n",
    "        return len(self.dataset)"
   ]
  },
  {
   "cell_type": "code",
   "execution_count": 6,
   "metadata": {},
   "outputs": [],
   "source": [
    "transform_get_normal = transforms.Compose([\n",
    "    transforms.Resize(32),\n",
    "    transforms.Grayscale(3),\n",
    "    transforms.ToTensor(),\n",
    "])"
   ]
  },
  {
   "cell_type": "code",
   "execution_count": 7,
   "metadata": {},
   "outputs": [
    {
     "name": "stdout",
     "output_type": "stream",
     "text": [
      "Files already downloaded and verified\n",
      "Number of classes: 964\n",
      "The mean grey value of Omniglot training set is 0.92205, standard deviation 0.22251\n"
     ]
    }
   ],
   "source": [
    "# normalization to mean=0, std= 1\n",
    "ds_get_normal = torchvision.datasets.Omniglot(root='.data', background=True, transform=transform_get_normal,\n",
    "                                              download=True)\n",
    "sample_loader = torch.utils.data.DataLoader(ds_get_normal, num_workers=NUM_WORKERS, batch_size=len(ds_get_normal))\n",
    "sample = None\n",
    "num_class = None\n",
    "for i, j in sample_loader:\n",
    "    sample = i\n",
    "    num_class = j.max() + 1\n",
    "print(f'Number of classes: {num_class.item()}')\n",
    "mean = sample.mean(dim=[0, 2, 3])\n",
    "std = sample.std(dim=[0, 2, 3])\n",
    "print(f'The mean grey value of Omniglot training set is {mean[0].item():.05f}, standard deviation {std[0].item():.05f}')"
   ]
  },
  {
   "cell_type": "code",
   "execution_count": 8,
   "metadata": {},
   "outputs": [],
   "source": [
    "transform_test = transforms.Compose([\n",
    "    transforms.Resize(32),\n",
    "    transforms.Grayscale(3),\n",
    "    transforms.ToTensor(),\n",
    "    transforms.Normalize(mean=mean, std=std),\n",
    "])"
   ]
  },
  {
   "cell_type": "code",
   "execution_count": 9,
   "metadata": {},
   "outputs": [
    {
     "name": "stdout",
     "output_type": "stream",
     "text": [
      "Files already downloaded and verified\n",
      "Files already downloaded and verified\n"
     ]
    }
   ],
   "source": [
    "ds_train = torchvision.datasets.Omniglot(root='.data', background=True, transform=transform_test, download=True)\n",
    "triplet_sampler = TripletBatchSampler(ds_train, batch_size=BATCH_SIZE)\n",
    "triplet_loader = torch.utils.data.DataLoader(ds_train, num_workers=NUM_WORKERS, batch_sampler=triplet_sampler, pin_memory=True)\n",
    "\n",
    "ds_test = torchvision.datasets.Omniglot(root='./data', background=False, transform=transform_test, download=True)\n",
    "ds_test_5way = OneShotEvalDS(ds_test, NUM_WAY)\n",
    "test_loader = torch.utils.data.DataLoader(ds_test_5way, batch_size=BATCH_SIZE, shuffle=False, num_workers=NUM_WORKERS, pin_memory=True)"
   ]
  },
  {
   "cell_type": "code",
   "execution_count": 10,
   "metadata": {},
   "outputs": [],
   "source": [
    "supervised_train_loader = torch.utils.data.DataLoader(ds_train, num_workers=NUM_WORKERS, batch_size=BATCH_SIZE, shuffle=True, pin_memory=True)"
   ]
  },
  {
   "cell_type": "code",
   "execution_count": 11,
   "metadata": {},
   "outputs": [
    {
     "name": "stderr",
     "output_type": "stream",
     "text": [
      "Clipping input data to the valid range for imshow with RGB data ([0..1] for floats or [0..255] for integers).\n",
      "Clipping input data to the valid range for imshow with RGB data ([0..1] for floats or [0..255] for integers).\n"
     ]
    },
    {
     "data": {
      "image/png": "[encoded data removed]",
      "text/plain": [
       "<Figure size 864x360 with 2 Axes>"
      ]
     },
     "metadata": {},
     "output_type": "display_data"
    }
   ],
   "source": [
    "for i, j in test_loader:\n",
    "    f, axs = plt.subplots(1, 2, gridspec_kw={'width_ratios': [1, 5]}, figsize=(12, 5))\n",
    "    axs[0].imshow(i[0].permute(2, 1 ,0))\n",
    "    axs[1].imshow(torchvision.utils.make_grid(j[0], nrow=1).permute(2,1,0))\n",
    "    for ax in axs:\n",
    "        ax.axis('off')\n",
    "    plt.show()\n",
    "    break"
   ]
  },
  {
   "cell_type": "code",
   "execution_count": 12,
   "metadata": {
    "scrolled": false
   },
   "outputs": [
    {
     "name": "stderr",
     "output_type": "stream",
     "text": [
      "Clipping input data to the valid range for imshow with RGB data ([0..1] for floats or [0..255] for integers).\n"
     ]
    },
    {
     "data": {
      "image/png": "[encoded data removed]",
      "text/plain": [
       "<Figure size 432x144 with 1 Axes>"
      ]
     },
     "metadata": {},
     "output_type": "display_data"
    }
   ],
   "source": [
    "sample_list = []\n",
    "for batch, _ in triplet_loader:\n",
    "    samples = [i.squeeze(0) for i in batch[::BATCH_SIZE].split(1)]\n",
    "    sample_list.extend(samples)\n",
    "    break\n",
    "_ = plt.figure(figsize=(6,2))\n",
    "plt.grid(False)\n",
    "plt.axis('off')\n",
    "plt.imshow(torchvision.utils.make_grid(sample_list, nrow=1).permute(2,1,0))\n",
    "plt.show()"
   ]
  },
  {
   "cell_type": "code",
   "execution_count": 13,
   "metadata": {},
   "outputs": [],
   "source": [
    "def embedding2prob(query_out, support_out):\n",
    "    query_batch_size = query_out.shape[0]\n",
    "    # repeat embedding according to the number of ways\n",
    "    query_out = query_out.repeat_interleave(support_out.shape[0] // query_batch_size,0)\n",
    "    sim = F.cosine_similarity(query_out, support_out).view(query_batch_size, -1)\n",
    "    prob = F.softmax(sim, dim=-1)\n",
    "    return prob\n",
    "    \n",
    "    "
   ]
  },
  {
   "cell_type": "code",
   "execution_count": 14,
   "metadata": {},
   "outputs": [],
   "source": [
    "def few_shot_eval(model, test_loader, triplet=True):\n",
    "    activation = {}\n",
    "    def get_activation(name):\n",
    "        def hook(model, input, output):\n",
    "            activation[name] = output.clone().detach()\n",
    "        return hook\n",
    "    model.cuda()\n",
    "    running_corrects = 0\n",
    "    with torch.no_grad():\n",
    "        model.eval()\n",
    "        print('Begin evaluation')\n",
    "        if not triplet:\n",
    "            # set up intermediate output (output of the average pooling) of the model\n",
    "            model.avgpool.register_forward_hook(get_activation('avgpool'))\n",
    "        for query, support in test_loader:\n",
    "            query = query.to(device)\n",
    "            support = support.to(device).view(-1, support.shape[-3], support.shape[-2], support.shape[-1])\n",
    "            if triplet:\n",
    "                query_out = model(query)\n",
    "                support_out = model(support)\n",
    "            else:\n",
    "                _ = model(query)\n",
    "                # use the intermediate output as embedding\n",
    "                query_out = activation['avgpool'].view(query.size(0), -1)\n",
    "                _ = model(support)\n",
    "                support_out = activation['avgpool'].view(support.size(0), -1)\n",
    "            outputs = embedding2prob(query_out, support_out)\n",
    "            _, preds = torch.max(outputs, 1)\n",
    "            running_corrects += torch.sum(preds==0)\n",
    "    acc = running_corrects.item() / len(ds_test)\n",
    "    return acc"
   ]
  },
  {
   "cell_type": "code",
   "execution_count": 15,
   "metadata": {},
   "outputs": [],
   "source": [
    "def train_loop(model, train_loader, criterion, optimizer, triplet=True):\n",
    "        \n",
    "        running_loss = 0.0\n",
    "        model.train() # Set model to training mode\n",
    "        if triplet:\n",
    "            for inputs, _ in tqdm(train_loader):\n",
    "\n",
    "                anchor, positive, negative = inputs.to(device).split(len(inputs)//3)\n",
    "\n",
    "                # zero the parameter gradients\n",
    "                optimizer.zero_grad()\n",
    "\n",
    "                # forward\n",
    "                out_anc = model(anchor)\n",
    "                out_pos = model(positive)\n",
    "                out_neg = model(negative)\n",
    "                loss = criterion(out_anc, out_pos, out_neg)\n",
    "\n",
    "                loss.backward()\n",
    "                optimizer.step()\n",
    "\n",
    "                # statistics\n",
    "                running_loss += loss.item() * anchor.shape[0]\n",
    "        else:\n",
    "            for inputs, labels in tqdm(train_loader):\n",
    "                \n",
    "                inputs = inputs.to(device)\n",
    "                labels = labels.to(device)\n",
    "                \n",
    "                # zero the parameter gradients\n",
    "                optimizer.zero_grad()\n",
    "                \n",
    "                outputs = model(inputs)\n",
    "                log_prob = F.log_softmax(outputs,dim=-1)\n",
    "                loss = criterion(log_prob, labels)\n",
    "                \n",
    "                loss.backward()\n",
    "                optimizer.step()\n",
    "                \n",
    "                running_loss += loss.item() * inputs.shape[0]\n",
    "                \n",
    "                \n",
    "        return running_loss\n",
    "        \n",
    "    \n",
    "    "
   ]
  },
  {
   "cell_type": "code",
   "execution_count": 16,
   "metadata": {},
   "outputs": [],
   "source": [
    "def train_model(model, criterion, train_loader, test_loader, optimizer, scheduler=None, num_epochs=30, save_path=None, triplet=True):\n",
    "    assert save_path is not None\n",
    "    since = time.time()\n",
    "    model.cuda()\n",
    "    best_acc = 0.0\n",
    "\n",
    "    for epoch in range(1,num_epochs+1):\n",
    "        print('Epoch {}/{}'.format(epoch, num_epochs))\n",
    "        # evaluation\n",
    "        epoch_acc = few_shot_eval(model, test_loader, triplet)\n",
    "        print('Epoch Test Acc: {:4f}'.format(epoch_acc))\n",
    "        if epoch_acc > best_acc:\n",
    "            best_acc = epoch_acc\n",
    "            torch.save(model.state_dict(), save_path)\n",
    "            print('Current model is saved.')\n",
    "       \n",
    "        \n",
    "        # Iterate over data/training.\n",
    "        running_loss = train_loop(model, train_loader, criterion, optimizer, triplet)\n",
    "        \n",
    "        scheduler.step()\n",
    "\n",
    "        epoch_loss = running_loss / len(ds_train)\n",
    "\n",
    "        print('Training Loss: {:.4f}'.format(epoch_loss))\n",
    "\n",
    "    time_elapsed = time.time() - since\n",
    "    print('Training complete in {:.0f}m {:.0f}s'.format(\n",
    "        time_elapsed // 60, time_elapsed % 60))\n",
    "\n",
    "    return model"
   ]
  },
  {
   "cell_type": "code",
   "execution_count": 17,
   "metadata": {},
   "outputs": [],
   "source": [
    "model_0 = resnet18(pretrained=False, device=device)\n",
    "model_0.fc = nn.Identity()\n",
    "\n",
    "model_1 = resnet18(pretrained=True, device=device, file='/state_dicts/resnet18.pt')\n",
    "model_1.fc = nn.Identity()\n",
    "\n",
    "\n",
    "\n",
    "\n"
   ]
  },
  {
   "cell_type": "code",
   "execution_count": 49,
   "metadata": {},
   "outputs": [],
   "source": [
    "model_2 = resnet18(pretrained=True, device=device, file='/state_dicts/resnet18.pt')\n",
    "model_2.fc = nn.Identity()"
   ]
  },
  {
   "cell_type": "code",
   "execution_count": 50,
   "metadata": {},
   "outputs": [],
   "source": [
    "triplet_loss = torch.nn.TripletMarginLoss(margin=1)\n",
    "\n",
    "m0_optimizer = optim.SGD(model_0.parameters(), lr=0.1)\n",
    "m0_scheduler = lr_scheduler.MultiStepLR(m0_optimizer, milestones=[24, 27], gamma=0.1)"
   ]
  },
  {
   "cell_type": "code",
   "execution_count": 32,
   "metadata": {
    "scrolled": true
   },
   "outputs": [
    {
     "name": "stdout",
     "output_type": "stream",
     "text": [
      "Epoch 1/30\n",
      "Begin evaluation\n",
      "Epoch Test Acc: 0.579818\n",
      "Current model is saved.\n"
     ]
    },
    {
     "data": {
      "application/vnd.jupyter.widget-view+json": {
       "model_id": "39ef313dfde04c6d8fe94c452b2517c6",
       "version_major": 2,
       "version_minor": 0
      },
      "text/plain": [
       "  0%|          | 0/76 [00:00<?, ?it/s]"
      ]
     },
     "metadata": {},
     "output_type": "display_data"
    },
    {
     "name": "stdout",
     "output_type": "stream",
     "text": [
      "Training Loss: 0.2150\n",
      "Epoch 2/30\n",
      "Begin evaluation\n",
      "Epoch Test Acc: 0.803187\n",
      "Current model is saved.\n"
     ]
    },
    {
     "data": {
      "application/vnd.jupyter.widget-view+json": {
       "model_id": "5d488344a7f84b66a4c2774745ca31e0",
       "version_major": 2,
       "version_minor": 0
      },
      "text/plain": [
       "  0%|          | 0/76 [00:00<?, ?it/s]"
      ]
     },
     "metadata": {},
     "output_type": "display_data"
    },
    {
     "name": "stdout",
     "output_type": "stream",
     "text": [
      "Training Loss: 0.0835\n",
      "Epoch 3/30\n",
      "Begin evaluation\n",
      "Epoch Test Acc: 0.848103\n",
      "Current model is saved.\n"
     ]
    },
    {
     "data": {
      "application/vnd.jupyter.widget-view+json": {
       "model_id": "e5edecf61f9d4328be0a60011a87c735",
       "version_major": 2,
       "version_minor": 0
      },
      "text/plain": [
       "  0%|          | 0/76 [00:00<?, ?it/s]"
      ]
     },
     "metadata": {},
     "output_type": "display_data"
    },
    {
     "name": "stdout",
     "output_type": "stream",
     "text": [
      "Training Loss: 0.0616\n",
      "Epoch 4/30\n",
      "Begin evaluation\n",
      "Epoch Test Acc: 0.886191\n",
      "Current model is saved.\n"
     ]
    },
    {
     "data": {
      "application/vnd.jupyter.widget-view+json": {
       "model_id": "f6cf2fad5625419b80ef791c1b80cb1c",
       "version_major": 2,
       "version_minor": 0
      },
      "text/plain": [
       "  0%|          | 0/76 [00:00<?, ?it/s]"
      ]
     },
     "metadata": {},
     "output_type": "display_data"
    },
    {
     "name": "stdout",
     "output_type": "stream",
     "text": [
      "Training Loss: 0.0425\n",
      "Epoch 5/30\n",
      "Begin evaluation\n",
      "Epoch Test Acc: 0.893703\n",
      "Current model is saved.\n"
     ]
    },
    {
     "data": {
      "application/vnd.jupyter.widget-view+json": {
       "model_id": "6ae9b08788464105bb6ba82751207956",
       "version_major": 2,
       "version_minor": 0
      },
      "text/plain": [
       "  0%|          | 0/76 [00:00<?, ?it/s]"
      ]
     },
     "metadata": {},
     "output_type": "display_data"
    },
    {
     "name": "stdout",
     "output_type": "stream",
     "text": [
      "Training Loss: 0.0353\n",
      "Epoch 6/30\n",
      "Begin evaluation\n",
      "Epoch Test Acc: 0.896965\n",
      "Current model is saved.\n"
     ]
    },
    {
     "data": {
      "application/vnd.jupyter.widget-view+json": {
       "model_id": "4eaa6bc2a7c645f1abb031e546e35145",
       "version_major": 2,
       "version_minor": 0
      },
      "text/plain": [
       "  0%|          | 0/76 [00:00<?, ?it/s]"
      ]
     },
     "metadata": {},
     "output_type": "display_data"
    },
    {
     "name": "stdout",
     "output_type": "stream",
     "text": [
      "Training Loss: 0.0314\n",
      "Epoch 7/30\n",
      "Begin evaluation\n",
      "Epoch Test Acc: 0.916464\n",
      "Current model is saved.\n"
     ]
    },
    {
     "data": {
      "application/vnd.jupyter.widget-view+json": {
       "model_id": "27c0167853d34dc8aa655f4aee5e5e91",
       "version_major": 2,
       "version_minor": 0
      },
      "text/plain": [
       "  0%|          | 0/76 [00:00<?, ?it/s]"
      ]
     },
     "metadata": {},
     "output_type": "display_data"
    },
    {
     "name": "stdout",
     "output_type": "stream",
     "text": [
      "Training Loss: 0.0272\n",
      "Epoch 8/30\n",
      "Begin evaluation\n",
      "Epoch Test Acc: 0.910622\n"
     ]
    },
    {
     "data": {
      "application/vnd.jupyter.widget-view+json": {
       "model_id": "7b72572d039b4fad9a7a445006764333",
       "version_major": 2,
       "version_minor": 0
      },
      "text/plain": [
       "  0%|          | 0/76 [00:00<?, ?it/s]"
      ]
     },
     "metadata": {},
     "output_type": "display_data"
    },
    {
     "name": "stdout",
     "output_type": "stream",
     "text": [
      "Training Loss: 0.0225\n",
      "Epoch 9/30\n",
      "Begin evaluation\n",
      "Epoch Test Acc: 0.924507\n",
      "Current model is saved.\n"
     ]
    },
    {
     "data": {
      "application/vnd.jupyter.widget-view+json": {
       "model_id": "4a58a76e921d49f8a5cd9999bb10ae70",
       "version_major": 2,
       "version_minor": 0
      },
      "text/plain": [
       "  0%|          | 0/76 [00:00<?, ?it/s]"
      ]
     },
     "metadata": {},
     "output_type": "display_data"
    },
    {
     "name": "stdout",
     "output_type": "stream",
     "text": [
      "Training Loss: 0.0231\n",
      "Epoch 10/30\n",
      "Begin evaluation\n",
      "Epoch Test Acc: 0.925114\n",
      "Current model is saved.\n"
     ]
    },
    {
     "data": {
      "application/vnd.jupyter.widget-view+json": {
       "model_id": "2b2d03b77c85447a9ce22711a6403e69",
       "version_major": 2,
       "version_minor": 0
      },
      "text/plain": [
       "  0%|          | 0/76 [00:00<?, ?it/s]"
      ]
     },
     "metadata": {},
     "output_type": "display_data"
    },
    {
     "name": "stdout",
     "output_type": "stream",
     "text": [
      "Training Loss: 0.0214\n",
      "Epoch 11/30\n",
      "Begin evaluation\n",
      "Epoch Test Acc: 0.920713\n"
     ]
    },
    {
     "data": {
      "application/vnd.jupyter.widget-view+json": {
       "model_id": "0e56dd5da34248829cb7ecdd7046dbe8",
       "version_major": 2,
       "version_minor": 0
      },
      "text/plain": [
       "  0%|          | 0/76 [00:00<?, ?it/s]"
      ]
     },
     "metadata": {},
     "output_type": "display_data"
    },
    {
     "name": "stdout",
     "output_type": "stream",
     "text": [
      "Training Loss: 0.0203\n",
      "Epoch 12/30\n",
      "Begin evaluation\n",
      "Epoch Test Acc: 0.928832\n",
      "Current model is saved.\n"
     ]
    },
    {
     "data": {
      "application/vnd.jupyter.widget-view+json": {
       "model_id": "9635deaf321d40a8a2b2951a767ff702",
       "version_major": 2,
       "version_minor": 0
      },
      "text/plain": [
       "  0%|          | 0/76 [00:00<?, ?it/s]"
      ]
     },
     "metadata": {},
     "output_type": "display_data"
    },
    {
     "name": "stdout",
     "output_type": "stream",
     "text": [
      "Training Loss: 0.0208\n",
      "Epoch 13/30\n",
      "Begin evaluation\n",
      "Epoch Test Acc: 0.924355\n"
     ]
    },
    {
     "data": {
      "application/vnd.jupyter.widget-view+json": {
       "model_id": "e9439b880de043f982524fb00549e0f5",
       "version_major": 2,
       "version_minor": 0
      },
      "text/plain": [
       "  0%|          | 0/76 [00:00<?, ?it/s]"
      ]
     },
     "metadata": {},
     "output_type": "display_data"
    },
    {
     "name": "stdout",
     "output_type": "stream",
     "text": [
      "Training Loss: 0.0164\n",
      "Epoch 14/30\n",
      "Begin evaluation\n",
      "Epoch Test Acc: 0.932929\n",
      "Current model is saved.\n"
     ]
    },
    {
     "data": {
      "application/vnd.jupyter.widget-view+json": {
       "model_id": "91d2b9840c88403b8816e7f53095aaf2",
       "version_major": 2,
       "version_minor": 0
      },
      "text/plain": [
       "  0%|          | 0/76 [00:00<?, ?it/s]"
      ]
     },
     "metadata": {},
     "output_type": "display_data"
    },
    {
     "name": "stdout",
     "output_type": "stream",
     "text": [
      "Training Loss: 0.0153\n",
      "Epoch 15/30\n",
      "Begin evaluation\n",
      "Epoch Test Acc: 0.937026\n",
      "Current model is saved.\n"
     ]
    },
    {
     "data": {
      "application/vnd.jupyter.widget-view+json": {
       "model_id": "9d33d7ce81374c5b8395d65420b762ef",
       "version_major": 2,
       "version_minor": 0
      },
      "text/plain": [
       "  0%|          | 0/76 [00:00<?, ?it/s]"
      ]
     },
     "metadata": {},
     "output_type": "display_data"
    },
    {
     "name": "stdout",
     "output_type": "stream",
     "text": [
      "Training Loss: 0.0146\n",
      "Epoch 16/30\n",
      "Begin evaluation\n",
      "Epoch Test Acc: 0.938467\n",
      "Current model is saved.\n"
     ]
    },
    {
     "data": {
      "application/vnd.jupyter.widget-view+json": {
       "model_id": "c8b94f5c8c7b4c049cd04f883cfa5aae",
       "version_major": 2,
       "version_minor": 0
      },
      "text/plain": [
       "  0%|          | 0/76 [00:00<?, ?it/s]"
      ]
     },
     "metadata": {},
     "output_type": "display_data"
    },
    {
     "name": "stdout",
     "output_type": "stream",
     "text": [
      "Training Loss: 0.0142\n",
      "Epoch 17/30\n",
      "Begin evaluation\n",
      "Epoch Test Acc: 0.938619\n",
      "Current model is saved.\n"
     ]
    },
    {
     "data": {
      "application/vnd.jupyter.widget-view+json": {
       "model_id": "3c4ae6e9b5f14734b600734cc8607ca6",
       "version_major": 2,
       "version_minor": 0
      },
      "text/plain": [
       "  0%|          | 0/76 [00:00<?, ?it/s]"
      ]
     },
     "metadata": {},
     "output_type": "display_data"
    },
    {
     "name": "stdout",
     "output_type": "stream",
     "text": [
      "Training Loss: 0.0150\n",
      "Epoch 18/30\n",
      "Begin evaluation\n",
      "Epoch Test Acc: 0.939605\n",
      "Current model is saved.\n"
     ]
    },
    {
     "data": {
      "application/vnd.jupyter.widget-view+json": {
       "model_id": "7e3e430aa899493181492b685f3581b4",
       "version_major": 2,
       "version_minor": 0
      },
      "text/plain": [
       "  0%|          | 0/76 [00:00<?, ?it/s]"
      ]
     },
     "metadata": {},
     "output_type": "display_data"
    },
    {
     "name": "stdout",
     "output_type": "stream",
     "text": [
      "Training Loss: 0.0158\n",
      "Epoch 19/30\n",
      "Begin evaluation\n",
      "Epoch Test Acc: 0.935736\n"
     ]
    },
    {
     "data": {
      "application/vnd.jupyter.widget-view+json": {
       "model_id": "b78fa66b3d194b8fb51a10e4e1df837e",
       "version_major": 2,
       "version_minor": 0
      },
      "text/plain": [
       "  0%|          | 0/76 [00:00<?, ?it/s]"
      ]
     },
     "metadata": {},
     "output_type": "display_data"
    },
    {
     "name": "stdout",
     "output_type": "stream",
     "text": [
      "Training Loss: 0.0145\n",
      "Epoch 20/30\n",
      "Begin evaluation\n",
      "Epoch Test Acc: 0.933080\n"
     ]
    },
    {
     "data": {
      "application/vnd.jupyter.widget-view+json": {
       "model_id": "e295c424ae904e16abe82e7f8bc57d91",
       "version_major": 2,
       "version_minor": 0
      },
      "text/plain": [
       "  0%|          | 0/76 [00:00<?, ?it/s]"
      ]
     },
     "metadata": {},
     "output_type": "display_data"
    },
    {
     "name": "stdout",
     "output_type": "stream",
     "text": [
      "Training Loss: 0.0137\n",
      "Epoch 21/30\n",
      "Begin evaluation\n",
      "Epoch Test Acc: 0.942868\n",
      "Current model is saved.\n"
     ]
    },
    {
     "data": {
      "application/vnd.jupyter.widget-view+json": {
       "model_id": "dd2cdcf325694621b8a415066319ee52",
       "version_major": 2,
       "version_minor": 0
      },
      "text/plain": [
       "  0%|          | 0/76 [00:00<?, ?it/s]"
      ]
     },
     "metadata": {},
     "output_type": "display_data"
    },
    {
     "name": "stdout",
     "output_type": "stream",
     "text": [
      "Training Loss: 0.0141\n",
      "Epoch 22/30\n",
      "Begin evaluation\n",
      "Epoch Test Acc: 0.939378\n"
     ]
    },
    {
     "data": {
      "application/vnd.jupyter.widget-view+json": {
       "model_id": "c17e9a127a3a4ca580f95be64cca941c",
       "version_major": 2,
       "version_minor": 0
      },
      "text/plain": [
       "  0%|          | 0/76 [00:00<?, ?it/s]"
      ]
     },
     "metadata": {},
     "output_type": "display_data"
    },
    {
     "name": "stdout",
     "output_type": "stream",
     "text": [
      "Training Loss: 0.0130\n",
      "Epoch 23/30\n",
      "Begin evaluation\n",
      "Epoch Test Acc: 0.944082\n",
      "Current model is saved.\n"
     ]
    },
    {
     "data": {
      "application/vnd.jupyter.widget-view+json": {
       "model_id": "2487bbbfcc7642f383e6eefc8cad28b1",
       "version_major": 2,
       "version_minor": 0
      },
      "text/plain": [
       "  0%|          | 0/76 [00:00<?, ?it/s]"
      ]
     },
     "metadata": {},
     "output_type": "display_data"
    },
    {
     "name": "stdout",
     "output_type": "stream",
     "text": [
      "Training Loss: 0.0135\n",
      "Epoch 24/30\n",
      "Begin evaluation\n",
      "Epoch Test Acc: 0.941806\n"
     ]
    },
    {
     "data": {
      "application/vnd.jupyter.widget-view+json": {
       "model_id": "65505a485a7a4c0eb5b9cad81af7d9b3",
       "version_major": 2,
       "version_minor": 0
      },
      "text/plain": [
       "  0%|          | 0/76 [00:00<?, ?it/s]"
      ]
     },
     "metadata": {},
     "output_type": "display_data"
    },
    {
     "name": "stdout",
     "output_type": "stream",
     "text": [
      "Training Loss: 0.0109\n",
      "Epoch 25/30\n",
      "Begin evaluation\n",
      "Epoch Test Acc: 0.941275\n"
     ]
    },
    {
     "data": {
      "application/vnd.jupyter.widget-view+json": {
       "model_id": "3bd88e7df93941e5a97cc4daaf8c77af",
       "version_major": 2,
       "version_minor": 0
      },
      "text/plain": [
       "  0%|          | 0/76 [00:00<?, ?it/s]"
      ]
     },
     "metadata": {},
     "output_type": "display_data"
    },
    {
     "name": "stdout",
     "output_type": "stream",
     "text": [
      "Training Loss: 0.0105\n",
      "Epoch 26/30\n",
      "Begin evaluation\n",
      "Epoch Test Acc: 0.940971\n"
     ]
    },
    {
     "data": {
      "application/vnd.jupyter.widget-view+json": {
       "model_id": "f4c4b2805579471581bdeb5ced41a2c9",
       "version_major": 2,
       "version_minor": 0
      },
      "text/plain": [
       "  0%|          | 0/76 [00:00<?, ?it/s]"
      ]
     },
     "metadata": {},
     "output_type": "display_data"
    },
    {
     "name": "stdout",
     "output_type": "stream",
     "text": [
      "Training Loss: 0.0116\n",
      "Epoch 27/30\n",
      "Begin evaluation\n",
      "Epoch Test Acc: 0.941275\n"
     ]
    },
    {
     "data": {
      "application/vnd.jupyter.widget-view+json": {
       "model_id": "3ee61889dcdd4acb8bbe1bde5e5616e1",
       "version_major": 2,
       "version_minor": 0
      },
      "text/plain": [
       "  0%|          | 0/76 [00:00<?, ?it/s]"
      ]
     },
     "metadata": {},
     "output_type": "display_data"
    },
    {
     "name": "stdout",
     "output_type": "stream",
     "text": [
      "Training Loss: 0.0108\n",
      "Epoch 28/30\n",
      "Begin evaluation\n",
      "Epoch Test Acc: 0.945372\n",
      "Current model is saved.\n"
     ]
    },
    {
     "data": {
      "application/vnd.jupyter.widget-view+json": {
       "model_id": "1fac83a176824e238a9e446796263fb5",
       "version_major": 2,
       "version_minor": 0
      },
      "text/plain": [
       "  0%|          | 0/76 [00:00<?, ?it/s]"
      ]
     },
     "metadata": {},
     "output_type": "display_data"
    },
    {
     "name": "stdout",
     "output_type": "stream",
     "text": [
      "Training Loss: 0.0110\n",
      "Epoch 29/30\n",
      "Begin evaluation\n",
      "Epoch Test Acc: 0.940592\n"
     ]
    },
    {
     "data": {
      "application/vnd.jupyter.widget-view+json": {
       "model_id": "3ab75e0128154780a1fc699e4b9b3aaa",
       "version_major": 2,
       "version_minor": 0
      },
      "text/plain": [
       "  0%|          | 0/76 [00:00<?, ?it/s]"
      ]
     },
     "metadata": {},
     "output_type": "display_data"
    },
    {
     "name": "stdout",
     "output_type": "stream",
     "text": [
      "Training Loss: 0.0096\n",
      "Epoch 30/30\n",
      "Begin evaluation\n",
      "Epoch Test Acc: 0.949317\n",
      "Current model is saved.\n"
     ]
    },
    {
     "data": {
      "application/vnd.jupyter.widget-view+json": {
       "model_id": "cfb0894953e542bba7f3b922e3a04dca",
       "version_major": 2,
       "version_minor": 0
      },
      "text/plain": [
       "  0%|          | 0/76 [00:00<?, ?it/s]"
      ]
     },
     "metadata": {},
     "output_type": "display_data"
    },
    {
     "name": "stdout",
     "output_type": "stream",
     "text": [
      "Training Loss: 0.0108\n",
      "Training complete in 40m 4s\n"
     ]
    },
    {
     "data": {
      "text/plain": [
       "ResNet(\n",
       "  (conv1): Conv2d(3, 64, kernel_size=(3, 3), stride=(1, 1), padding=(1, 1), bias=False)\n",
       "  (bn1): BatchNorm2d(64, eps=1e-05, momentum=0.1, affine=True, track_running_stats=True)\n",
       "  (relu): ReLU(inplace=True)\n",
       "  (maxpool): MaxPool2d(kernel_size=3, stride=2, padding=1, dilation=1, ceil_mode=False)\n",
       "  (layer1): Sequential(\n",
       "    (0): BasicBlock(\n",
       "      (conv1): Conv2d(64, 64, kernel_size=(3, 3), stride=(1, 1), padding=(1, 1), bias=False)\n",
       "      (bn1): BatchNorm2d(64, eps=1e-05, momentum=0.1, affine=True, track_running_stats=True)\n",
       "      (relu): ReLU(inplace=True)\n",
       "      (conv2): Conv2d(64, 64, kernel_size=(3, 3), stride=(1, 1), padding=(1, 1), bias=False)\n",
       "      (bn2): BatchNorm2d(64, eps=1e-05, momentum=0.1, affine=True, track_running_stats=True)\n",
       "    )\n",
       "    (1): BasicBlock(\n",
       "      (conv1): Conv2d(64, 64, kernel_size=(3, 3), stride=(1, 1), padding=(1, 1), bias=False)\n",
       "      (bn1): BatchNorm2d(64, eps=1e-05, momentum=0.1, affine=True, track_running_stats=True)\n",
       "      (relu): ReLU(inplace=True)\n",
       "      (conv2): Conv2d(64, 64, kernel_size=(3, 3), stride=(1, 1), padding=(1, 1), bias=False)\n",
       "      (bn2): BatchNorm2d(64, eps=1e-05, momentum=0.1, affine=True, track_running_stats=True)\n",
       "    )\n",
       "  )\n",
       "  (layer2): Sequential(\n",
       "    (0): BasicBlock(\n",
       "      (conv1): Conv2d(64, 128, kernel_size=(3, 3), stride=(2, 2), padding=(1, 1), bias=False)\n",
       "      (bn1): BatchNorm2d(128, eps=1e-05, momentum=0.1, affine=True, track_running_stats=True)\n",
       "      (relu): ReLU(inplace=True)\n",
       "      (conv2): Conv2d(128, 128, kernel_size=(3, 3), stride=(1, 1), padding=(1, 1), bias=False)\n",
       "      (bn2): BatchNorm2d(128, eps=1e-05, momentum=0.1, affine=True, track_running_stats=True)\n",
       "      (downsample): Sequential(\n",
       "        (0): Conv2d(64, 128, kernel_size=(1, 1), stride=(2, 2), bias=False)\n",
       "        (1): BatchNorm2d(128, eps=1e-05, momentum=0.1, affine=True, track_running_stats=True)\n",
       "      )\n",
       "    )\n",
       "    (1): BasicBlock(\n",
       "      (conv1): Conv2d(128, 128, kernel_size=(3, 3), stride=(1, 1), padding=(1, 1), bias=False)\n",
       "      (bn1): BatchNorm2d(128, eps=1e-05, momentum=0.1, affine=True, track_running_stats=True)\n",
       "      (relu): ReLU(inplace=True)\n",
       "      (conv2): Conv2d(128, 128, kernel_size=(3, 3), stride=(1, 1), padding=(1, 1), bias=False)\n",
       "      (bn2): BatchNorm2d(128, eps=1e-05, momentum=0.1, affine=True, track_running_stats=True)\n",
       "    )\n",
       "  )\n",
       "  (layer3): Sequential(\n",
       "    (0): BasicBlock(\n",
       "      (conv1): Conv2d(128, 256, kernel_size=(3, 3), stride=(2, 2), padding=(1, 1), bias=False)\n",
       "      (bn1): BatchNorm2d(256, eps=1e-05, momentum=0.1, affine=True, track_running_stats=True)\n",
       "      (relu): ReLU(inplace=True)\n",
       "      (conv2): Conv2d(256, 256, kernel_size=(3, 3), stride=(1, 1), padding=(1, 1), bias=False)\n",
       "      (bn2): BatchNorm2d(256, eps=1e-05, momentum=0.1, affine=True, track_running_stats=True)\n",
       "      (downsample): Sequential(\n",
       "        (0): Conv2d(128, 256, kernel_size=(1, 1), stride=(2, 2), bias=False)\n",
       "        (1): BatchNorm2d(256, eps=1e-05, momentum=0.1, affine=True, track_running_stats=True)\n",
       "      )\n",
       "    )\n",
       "    (1): BasicBlock(\n",
       "      (conv1): Conv2d(256, 256, kernel_size=(3, 3), stride=(1, 1), padding=(1, 1), bias=False)\n",
       "      (bn1): BatchNorm2d(256, eps=1e-05, momentum=0.1, affine=True, track_running_stats=True)\n",
       "      (relu): ReLU(inplace=True)\n",
       "      (conv2): Conv2d(256, 256, kernel_size=(3, 3), stride=(1, 1), padding=(1, 1), bias=False)\n",
       "      (bn2): BatchNorm2d(256, eps=1e-05, momentum=0.1, affine=True, track_running_stats=True)\n",
       "    )\n",
       "  )\n",
       "  (layer4): Sequential(\n",
       "    (0): BasicBlock(\n",
       "      (conv1): Conv2d(256, 512, kernel_size=(3, 3), stride=(2, 2), padding=(1, 1), bias=False)\n",
       "      (bn1): BatchNorm2d(512, eps=1e-05, momentum=0.1, affine=True, track_running_stats=True)\n",
       "      (relu): ReLU(inplace=True)\n",
       "      (conv2): Conv2d(512, 512, kernel_size=(3, 3), stride=(1, 1), padding=(1, 1), bias=False)\n",
       "      (bn2): BatchNorm2d(512, eps=1e-05, momentum=0.1, affine=True, track_running_stats=True)\n",
       "      (downsample): Sequential(\n",
       "        (0): Conv2d(256, 512, kernel_size=(1, 1), stride=(2, 2), bias=False)\n",
       "        (1): BatchNorm2d(512, eps=1e-05, momentum=0.1, affine=True, track_running_stats=True)\n",
       "      )\n",
       "    )\n",
       "    (1): BasicBlock(\n",
       "      (conv1): Conv2d(512, 512, kernel_size=(3, 3), stride=(1, 1), padding=(1, 1), bias=False)\n",
       "      (bn1): BatchNorm2d(512, eps=1e-05, momentum=0.1, affine=True, track_running_stats=True)\n",
       "      (relu): ReLU(inplace=True)\n",
       "      (conv2): Conv2d(512, 512, kernel_size=(3, 3), stride=(1, 1), padding=(1, 1), bias=False)\n",
       "      (bn2): BatchNorm2d(512, eps=1e-05, momentum=0.1, affine=True, track_running_stats=True)\n",
       "    )\n",
       "  )\n",
       "  (avgpool): AdaptiveAvgPool2d(output_size=(1, 1))\n",
       "  (fc): Identity()\n",
       ")"
      ]
     },
     "execution_count": 32,
     "metadata": {},
     "output_type": "execute_result"
    }
   ],
   "source": [
    "# train DNNs for 30 epochs\n",
    "train_model(model_0, triplet_loss, triplet_loader, test_loader, m0_optimizer, m0_scheduler, 30, 'model_0.pth')"
   ]
  },
  {
   "cell_type": "code",
   "execution_count": 36,
   "metadata": {
    "scrolled": true
   },
   "outputs": [
    {
     "name": "stdout",
     "output_type": "stream",
     "text": [
      "Begin evaluation\n"
     ]
    },
    {
     "data": {
      "text/plain": [
       "0.4795144157814871"
      ]
     },
     "execution_count": 36,
     "metadata": {},
     "output_type": "execute_result"
    }
   ],
   "source": [
    "few_shot_eval(model_1, test_loader)"
   ]
  },
  {
   "cell_type": "code",
   "execution_count": 65,
   "metadata": {
    "scrolled": true
   },
   "outputs": [
    {
     "name": "stdout",
     "output_type": "stream",
     "text": [
      "Epoch 1/30\n",
      "Begin evaluation\n",
      "Epoch Test Acc: 0.473596\n",
      "Current model is saved.\n"
     ]
    },
    {
     "data": {
      "application/vnd.jupyter.widget-view+json": {
       "model_id": "5bb48f03934d4746a3838071e3ee5231",
       "version_major": 2,
       "version_minor": 0
      },
      "text/plain": [
       "  0%|          | 0/76 [00:00<?, ?it/s]"
      ]
     },
     "metadata": {},
     "output_type": "display_data"
    },
    {
     "name": "stdout",
     "output_type": "stream",
     "text": [
      "Training Loss: 0.4110\n",
      "Epoch 2/30\n",
      "Begin evaluation\n",
      "Epoch Test Acc: 0.610167\n",
      "Current model is saved.\n"
     ]
    },
    {
     "data": {
      "application/vnd.jupyter.widget-view+json": {
       "model_id": "939151787f2f4d2dbd7a29e28c090be5",
       "version_major": 2,
       "version_minor": 0
      },
      "text/plain": [
       "  0%|          | 0/76 [00:00<?, ?it/s]"
      ]
     },
     "metadata": {},
     "output_type": "display_data"
    },
    {
     "name": "stdout",
     "output_type": "stream",
     "text": [
      "Training Loss: 0.2522\n",
      "Epoch 3/30\n",
      "Begin evaluation\n",
      "Epoch Test Acc: 0.660470\n",
      "Current model is saved.\n"
     ]
    },
    {
     "data": {
      "application/vnd.jupyter.widget-view+json": {
       "model_id": "cf72d826328c4f16ad98d645814daaad",
       "version_major": 2,
       "version_minor": 0
      },
      "text/plain": [
       "  0%|          | 0/76 [00:00<?, ?it/s]"
      ]
     },
     "metadata": {},
     "output_type": "display_data"
    },
    {
     "name": "stdout",
     "output_type": "stream",
     "text": [
      "Training Loss: 0.1965\n",
      "Epoch 4/30\n",
      "Begin evaluation\n",
      "Epoch Test Acc: 0.692564\n",
      "Current model is saved.\n"
     ]
    },
    {
     "data": {
      "application/vnd.jupyter.widget-view+json": {
       "model_id": "4898b6cfa00a46508ff34b3a471262b4",
       "version_major": 2,
       "version_minor": 0
      },
      "text/plain": [
       "  0%|          | 0/76 [00:00<?, ?it/s]"
      ]
     },
     "metadata": {},
     "output_type": "display_data"
    },
    {
     "name": "stdout",
     "output_type": "stream",
     "text": [
      "Training Loss: 0.1641\n",
      "Epoch 5/30\n",
      "Begin evaluation\n",
      "Epoch Test Acc: 0.711912\n",
      "Current model is saved.\n"
     ]
    },
    {
     "data": {
      "application/vnd.jupyter.widget-view+json": {
       "model_id": "49f87a7e88fd469fba3661aa82a1d618",
       "version_major": 2,
       "version_minor": 0
      },
      "text/plain": [
       "  0%|          | 0/76 [00:00<?, ?it/s]"
      ]
     },
     "metadata": {},
     "output_type": "display_data"
    },
    {
     "name": "stdout",
     "output_type": "stream",
     "text": [
      "Training Loss: 0.1401\n",
      "Epoch 6/30\n",
      "Begin evaluation\n",
      "Epoch Test Acc: 0.731411\n",
      "Current model is saved.\n"
     ]
    },
    {
     "data": {
      "application/vnd.jupyter.widget-view+json": {
       "model_id": "9dbd5a7bdfbf4d8d98c286f6f349886f",
       "version_major": 2,
       "version_minor": 0
      },
      "text/plain": [
       "  0%|          | 0/76 [00:00<?, ?it/s]"
      ]
     },
     "metadata": {},
     "output_type": "display_data"
    },
    {
     "name": "stdout",
     "output_type": "stream",
     "text": [
      "Training Loss: 0.1306\n",
      "Epoch 7/30\n",
      "Begin evaluation\n",
      "Epoch Test Acc: 0.723520\n"
     ]
    },
    {
     "data": {
      "application/vnd.jupyter.widget-view+json": {
       "model_id": "bbad72382d2b43d6bfb0b4776b0cd681",
       "version_major": 2,
       "version_minor": 0
      },
      "text/plain": [
       "  0%|          | 0/76 [00:00<?, ?it/s]"
      ]
     },
     "metadata": {},
     "output_type": "display_data"
    },
    {
     "name": "stdout",
     "output_type": "stream",
     "text": [
      "Training Loss: 0.1175\n",
      "Epoch 8/30\n",
      "Begin evaluation\n",
      "Epoch Test Acc: 0.744992\n",
      "Current model is saved.\n"
     ]
    },
    {
     "data": {
      "application/vnd.jupyter.widget-view+json": {
       "model_id": "acf4727561464ad4bdee43fb0f5edcf0",
       "version_major": 2,
       "version_minor": 0
      },
      "text/plain": [
       "  0%|          | 0/76 [00:00<?, ?it/s]"
      ]
     },
     "metadata": {},
     "output_type": "display_data"
    },
    {
     "name": "stdout",
     "output_type": "stream",
     "text": [
      "Training Loss: 0.1138\n",
      "Epoch 9/30\n",
      "Begin evaluation\n",
      "Epoch Test Acc: 0.746965\n",
      "Current model is saved.\n"
     ]
    },
    {
     "data": {
      "application/vnd.jupyter.widget-view+json": {
       "model_id": "f7f780c14a2047f6b48b7e5895541e43",
       "version_major": 2,
       "version_minor": 0
      },
      "text/plain": [
       "  0%|          | 0/76 [00:00<?, ?it/s]"
      ]
     },
     "metadata": {},
     "output_type": "display_data"
    },
    {
     "name": "stdout",
     "output_type": "stream",
     "text": [
      "Training Loss: 0.1002\n",
      "Epoch 10/30\n",
      "Begin evaluation\n",
      "Epoch Test Acc: 0.766692\n",
      "Current model is saved.\n"
     ]
    },
    {
     "data": {
      "application/vnd.jupyter.widget-view+json": {
       "model_id": "bcbc28980ffc4bfbb9bd3a2a59ff71b4",
       "version_major": 2,
       "version_minor": 0
      },
      "text/plain": [
       "  0%|          | 0/76 [00:00<?, ?it/s]"
      ]
     },
     "metadata": {},
     "output_type": "display_data"
    },
    {
     "name": "stdout",
     "output_type": "stream",
     "text": [
      "Training Loss: 0.0951\n",
      "Epoch 11/30\n",
      "Begin evaluation\n",
      "Epoch Test Acc: 0.788923\n",
      "Current model is saved.\n"
     ]
    },
    {
     "data": {
      "application/vnd.jupyter.widget-view+json": {
       "model_id": "9753721de2b745ed9c5322ac868ecaf7",
       "version_major": 2,
       "version_minor": 0
      },
      "text/plain": [
       "  0%|          | 0/76 [00:00<?, ?it/s]"
      ]
     },
     "metadata": {},
     "output_type": "display_data"
    },
    {
     "name": "stdout",
     "output_type": "stream",
     "text": [
      "Training Loss: 0.0941\n",
      "Epoch 12/30\n",
      "Begin evaluation\n",
      "Epoch Test Acc: 0.781259\n"
     ]
    },
    {
     "data": {
      "application/vnd.jupyter.widget-view+json": {
       "model_id": "3a28d28f1bd24a1eb5628d341355d6be",
       "version_major": 2,
       "version_minor": 0
      },
      "text/plain": [
       "  0%|          | 0/76 [00:00<?, ?it/s]"
      ]
     },
     "metadata": {},
     "output_type": "display_data"
    },
    {
     "name": "stdout",
     "output_type": "stream",
     "text": [
      "Training Loss: 0.0900\n",
      "Epoch 13/30\n",
      "Begin evaluation\n",
      "Epoch Test Acc: 0.760395\n"
     ]
    },
    {
     "data": {
      "application/vnd.jupyter.widget-view+json": {
       "model_id": "81f06725f9184a5cb5d6010bb6c7eae5",
       "version_major": 2,
       "version_minor": 0
      },
      "text/plain": [
       "  0%|          | 0/76 [00:00<?, ?it/s]"
      ]
     },
     "metadata": {},
     "output_type": "display_data"
    },
    {
     "name": "stdout",
     "output_type": "stream",
     "text": [
      "Training Loss: 0.0840\n",
      "Epoch 14/30\n",
      "Begin evaluation\n",
      "Epoch Test Acc: 0.782094\n"
     ]
    },
    {
     "data": {
      "application/vnd.jupyter.widget-view+json": {
       "model_id": "a440b1e44d1e4e82bb35a34eca52682e",
       "version_major": 2,
       "version_minor": 0
      },
      "text/plain": [
       "  0%|          | 0/76 [00:00<?, ?it/s]"
      ]
     },
     "metadata": {},
     "output_type": "display_data"
    },
    {
     "name": "stdout",
     "output_type": "stream",
     "text": [
      "Training Loss: 0.0831\n",
      "Epoch 15/30\n",
      "Begin evaluation\n",
      "Epoch Test Acc: 0.790592\n",
      "Current model is saved.\n"
     ]
    },
    {
     "data": {
      "application/vnd.jupyter.widget-view+json": {
       "model_id": "097d1f03a6a74b60b9281f0fec88160c",
       "version_major": 2,
       "version_minor": 0
      },
      "text/plain": [
       "  0%|          | 0/76 [00:00<?, ?it/s]"
      ]
     },
     "metadata": {},
     "output_type": "display_data"
    },
    {
     "name": "stdout",
     "output_type": "stream",
     "text": [
      "Training Loss: 0.0752\n",
      "Epoch 16/30\n",
      "Begin evaluation\n",
      "Epoch Test Acc: 0.792564\n",
      "Current model is saved.\n"
     ]
    },
    {
     "data": {
      "application/vnd.jupyter.widget-view+json": {
       "model_id": "1e2b69e5090a4fc2842eed5a5620dce7",
       "version_major": 2,
       "version_minor": 0
      },
      "text/plain": [
       "  0%|          | 0/76 [00:00<?, ?it/s]"
      ]
     },
     "metadata": {},
     "output_type": "display_data"
    },
    {
     "name": "stdout",
     "output_type": "stream",
     "text": [
      "Training Loss: 0.0753\n",
      "Epoch 17/30\n",
      "Begin evaluation\n",
      "Epoch Test Acc: 0.784901\n"
     ]
    },
    {
     "data": {
      "application/vnd.jupyter.widget-view+json": {
       "model_id": "122ae700f5594827be50ef662189a600",
       "version_major": 2,
       "version_minor": 0
      },
      "text/plain": [
       "  0%|          | 0/76 [00:00<?, ?it/s]"
      ]
     },
     "metadata": {},
     "output_type": "display_data"
    },
    {
     "name": "stdout",
     "output_type": "stream",
     "text": [
      "Training Loss: 0.0727\n",
      "Epoch 18/30\n",
      "Begin evaluation\n",
      "Epoch Test Acc: 0.802656\n",
      "Current model is saved.\n"
     ]
    },
    {
     "data": {
      "application/vnd.jupyter.widget-view+json": {
       "model_id": "ded98a0bda004daa8ad58b666a1cd9a1",
       "version_major": 2,
       "version_minor": 0
      },
      "text/plain": [
       "  0%|          | 0/76 [00:00<?, ?it/s]"
      ]
     },
     "metadata": {},
     "output_type": "display_data"
    },
    {
     "name": "stdout",
     "output_type": "stream",
     "text": [
      "Training Loss: 0.0663\n",
      "Epoch 19/30\n",
      "Begin evaluation\n",
      "Epoch Test Acc: 0.773217\n"
     ]
    },
    {
     "data": {
      "application/vnd.jupyter.widget-view+json": {
       "model_id": "45c482ff804745b0a6995fe5489c60c0",
       "version_major": 2,
       "version_minor": 0
      },
      "text/plain": [
       "  0%|          | 0/76 [00:00<?, ?it/s]"
      ]
     },
     "metadata": {},
     "output_type": "display_data"
    },
    {
     "name": "stdout",
     "output_type": "stream",
     "text": [
      "Training Loss: 0.0629\n",
      "Epoch 20/30\n",
      "Begin evaluation\n",
      "Epoch Test Acc: 0.795675\n"
     ]
    },
    {
     "data": {
      "application/vnd.jupyter.widget-view+json": {
       "model_id": "c86c8e0cfc6f4ab8b9de97e5be5464eb",
       "version_major": 2,
       "version_minor": 0
      },
      "text/plain": [
       "  0%|          | 0/76 [00:00<?, ?it/s]"
      ]
     },
     "metadata": {},
     "output_type": "display_data"
    },
    {
     "name": "stdout",
     "output_type": "stream",
     "text": [
      "Training Loss: 0.0603\n",
      "Epoch 21/30\n",
      "Begin evaluation\n",
      "Epoch Test Acc: 0.800152\n"
     ]
    },
    {
     "data": {
      "application/vnd.jupyter.widget-view+json": {
       "model_id": "3fadc96bf5d445d6b8b90805c7382e43",
       "version_major": 2,
       "version_minor": 0
      },
      "text/plain": [
       "  0%|          | 0/76 [00:00<?, ?it/s]"
      ]
     },
     "metadata": {},
     "output_type": "display_data"
    },
    {
     "name": "stdout",
     "output_type": "stream",
     "text": [
      "Training Loss: 0.0622\n",
      "Epoch 22/30\n",
      "Begin evaluation\n",
      "Epoch Test Acc: 0.788847\n"
     ]
    },
    {
     "data": {
      "application/vnd.jupyter.widget-view+json": {
       "model_id": "c7514a7955424606886e1147151ae764",
       "version_major": 2,
       "version_minor": 0
      },
      "text/plain": [
       "  0%|          | 0/76 [00:00<?, ?it/s]"
      ]
     },
     "metadata": {},
     "output_type": "display_data"
    },
    {
     "name": "stdout",
     "output_type": "stream",
     "text": [
      "Training Loss: 0.0559\n",
      "Epoch 23/30\n",
      "Begin evaluation\n",
      "Epoch Test Acc: 0.807891\n",
      "Current model is saved.\n"
     ]
    },
    {
     "data": {
      "application/vnd.jupyter.widget-view+json": {
       "model_id": "b1d35c621c3d42b5a20229df0095b3f8",
       "version_major": 2,
       "version_minor": 0
      },
      "text/plain": [
       "  0%|          | 0/76 [00:00<?, ?it/s]"
      ]
     },
     "metadata": {},
     "output_type": "display_data"
    },
    {
     "name": "stdout",
     "output_type": "stream",
     "text": [
      "Training Loss: 0.0564\n",
      "Epoch 24/30\n",
      "Begin evaluation\n",
      "Epoch Test Acc: 0.803338\n"
     ]
    },
    {
     "data": {
      "application/vnd.jupyter.widget-view+json": {
       "model_id": "23e8c622464b4354b18326e83c840e80",
       "version_major": 2,
       "version_minor": 0
      },
      "text/plain": [
       "  0%|          | 0/76 [00:00<?, ?it/s]"
      ]
     },
     "metadata": {},
     "output_type": "display_data"
    },
    {
     "name": "stdout",
     "output_type": "stream",
     "text": [
      "Training Loss: 0.0562\n",
      "Epoch 25/30\n",
      "Begin evaluation\n",
      "Epoch Test Acc: 0.788771\n"
     ]
    },
    {
     "data": {
      "application/vnd.jupyter.widget-view+json": {
       "model_id": "8053da9093394717a8a9575b140a5d3b",
       "version_major": 2,
       "version_minor": 0
      },
      "text/plain": [
       "  0%|          | 0/76 [00:00<?, ?it/s]"
      ]
     },
     "metadata": {},
     "output_type": "display_data"
    },
    {
     "name": "stdout",
     "output_type": "stream",
     "text": [
      "Training Loss: 0.0560\n",
      "Epoch 26/30\n",
      "Begin evaluation\n",
      "Epoch Test Acc: 0.825266\n",
      "Current model is saved.\n"
     ]
    },
    {
     "data": {
      "application/vnd.jupyter.widget-view+json": {
       "model_id": "bac15dd270f44ab6b7f989ba773b005f",
       "version_major": 2,
       "version_minor": 0
      },
      "text/plain": [
       "  0%|          | 0/76 [00:00<?, ?it/s]"
      ]
     },
     "metadata": {},
     "output_type": "display_data"
    },
    {
     "name": "stdout",
     "output_type": "stream",
     "text": [
      "Training Loss: 0.0444\n",
      "Epoch 27/30\n",
      "Begin evaluation\n",
      "Epoch Test Acc: 0.830425\n",
      "Current model is saved.\n"
     ]
    },
    {
     "data": {
      "application/vnd.jupyter.widget-view+json": {
       "model_id": "4d4a77179fa6476d99f5d550a49529c1",
       "version_major": 2,
       "version_minor": 0
      },
      "text/plain": [
       "  0%|          | 0/76 [00:00<?, ?it/s]"
      ]
     },
     "metadata": {},
     "output_type": "display_data"
    },
    {
     "name": "stdout",
     "output_type": "stream",
     "text": [
      "Training Loss: 0.0445\n",
      "Epoch 28/30\n",
      "Begin evaluation\n",
      "Epoch Test Acc: 0.828983\n"
     ]
    },
    {
     "data": {
      "application/vnd.jupyter.widget-view+json": {
       "model_id": "35fbeec29956477d8cb9c93db03b7c21",
       "version_major": 2,
       "version_minor": 0
      },
      "text/plain": [
       "  0%|          | 0/76 [00:00<?, ?it/s]"
      ]
     },
     "metadata": {},
     "output_type": "display_data"
    },
    {
     "name": "stdout",
     "output_type": "stream",
     "text": [
      "Training Loss: 0.0456\n",
      "Epoch 29/30\n",
      "Begin evaluation\n",
      "Epoch Test Acc: 0.832170\n",
      "Current model is saved.\n"
     ]
    },
    {
     "data": {
      "application/vnd.jupyter.widget-view+json": {
       "model_id": "b45b14a9fb274731aa9b33d1b45c778b",
       "version_major": 2,
       "version_minor": 0
      },
      "text/plain": [
       "  0%|          | 0/76 [00:00<?, ?it/s]"
      ]
     },
     "metadata": {},
     "output_type": "display_data"
    },
    {
     "name": "stdout",
     "output_type": "stream",
     "text": [
      "Training Loss: 0.0412\n",
      "Epoch 30/30\n",
      "Begin evaluation\n",
      "Epoch Test Acc: 0.826859\n"
     ]
    },
    {
     "data": {
      "application/vnd.jupyter.widget-view+json": {
       "model_id": "06eeeb4970ef4a3883c9a9ae85bf583b",
       "version_major": 2,
       "version_minor": 0
      },
      "text/plain": [
       "  0%|          | 0/76 [00:00<?, ?it/s]"
      ]
     },
     "metadata": {},
     "output_type": "display_data"
    },
    {
     "name": "stdout",
     "output_type": "stream",
     "text": [
      "Training Loss: 0.0405\n",
      "Training complete in 23m 55s\n"
     ]
    }
   ],
   "source": [
    "# create a pretrained model, freeze the first 13 layers of resnet18 and train model with triplet loss\n",
    "optimized_param = []\n",
    "ct = 0\n",
    "for child in model_2.children():\n",
    "    for param in child.parameters():\n",
    "        if ct < 7:\n",
    "            param.requires_grad = False\n",
    "        else:\n",
    "            param.requires_grad = True\n",
    "            optimized_param.extend(child.parameters())\n",
    "    ct += 1\n",
    "\n",
    "m2_optimizer = optim.SGD(optimized_param, lr=0.1)\n",
    "m2_scheduler = lr_scheduler.MultiStepLR(m2_optimizer, milestones=[24, 27], gamma=0.1)\n",
    "\n",
    "model_2 = train_model(model_2, triplet_loss, triplet_loader, test_loader, m2_optimizer, m2_scheduler, 30, 'model_2.pth')"
   ]
  },
  {
   "cell_type": "code",
   "execution_count": 116,
   "metadata": {
    "scrolled": true
   },
   "outputs": [
    {
     "name": "stdout",
     "output_type": "stream",
     "text": [
      "Epoch 1/30\n",
      "Begin evaluation\n",
      "Epoch Test Acc: 0.522610\n",
      "Current model is saved.\n"
     ]
    },
    {
     "data": {
      "application/vnd.jupyter.widget-view+json": {
       "model_id": "b1f63b74da5b431fad82b9a0959dc650",
       "version_major": 2,
       "version_minor": 0
      },
      "text/plain": [
       "  0%|          | 0/76 [00:00<?, ?it/s]"
      ]
     },
     "metadata": {},
     "output_type": "display_data"
    },
    {
     "name": "stdout",
     "output_type": "stream",
     "text": [
      "Training Loss: 6.3647\n",
      "Epoch 2/30\n",
      "Begin evaluation\n",
      "Epoch Test Acc: 0.702276\n",
      "Current model is saved.\n"
     ]
    },
    {
     "data": {
      "application/vnd.jupyter.widget-view+json": {
       "model_id": "5c922e8ebf5d4d83aebb95d3b88a21ee",
       "version_major": 2,
       "version_minor": 0
      },
      "text/plain": [
       "  0%|          | 0/76 [00:00<?, ?it/s]"
      ]
     },
     "metadata": {},
     "output_type": "display_data"
    },
    {
     "name": "stdout",
     "output_type": "stream",
     "text": [
      "Training Loss: 5.9880\n",
      "Epoch 3/30\n",
      "Begin evaluation\n",
      "Epoch Test Acc: 0.693551\n"
     ]
    },
    {
     "data": {
      "application/vnd.jupyter.widget-view+json": {
       "model_id": "ad56f21b431b4139a42f6468c37d9a45",
       "version_major": 2,
       "version_minor": 0
      },
      "text/plain": [
       "  0%|          | 0/76 [00:00<?, ?it/s]"
      ]
     },
     "metadata": {},
     "output_type": "display_data"
    },
    {
     "name": "stdout",
     "output_type": "stream",
     "text": [
      "Training Loss: 5.5958\n",
      "Epoch 4/30\n",
      "Begin evaluation\n",
      "Epoch Test Acc: 0.685053\n"
     ]
    },
    {
     "data": {
      "application/vnd.jupyter.widget-view+json": {
       "model_id": "8d64884717fc4a07ad50637b2365a7be",
       "version_major": 2,
       "version_minor": 0
      },
      "text/plain": [
       "  0%|          | 0/76 [00:00<?, ?it/s]"
      ]
     },
     "metadata": {},
     "output_type": "display_data"
    },
    {
     "name": "stdout",
     "output_type": "stream",
     "text": [
      "Training Loss: 5.1788\n",
      "Epoch 5/30\n",
      "Begin evaluation\n",
      "Epoch Test Acc: 0.742868\n",
      "Current model is saved.\n"
     ]
    },
    {
     "data": {
      "application/vnd.jupyter.widget-view+json": {
       "model_id": "b50aae1b626a4719bc78602c927a2a9f",
       "version_major": 2,
       "version_minor": 0
      },
      "text/plain": [
       "  0%|          | 0/76 [00:00<?, ?it/s]"
      ]
     },
     "metadata": {},
     "output_type": "display_data"
    },
    {
     "name": "stdout",
     "output_type": "stream",
     "text": [
      "Training Loss: 4.7391\n",
      "Epoch 6/30\n",
      "Begin evaluation\n",
      "Epoch Test Acc: 0.734750\n"
     ]
    },
    {
     "data": {
      "application/vnd.jupyter.widget-view+json": {
       "model_id": "c805f6b5ddbc4da5b95eafc789ba3359",
       "version_major": 2,
       "version_minor": 0
      },
      "text/plain": [
       "  0%|          | 0/76 [00:00<?, ?it/s]"
      ]
     },
     "metadata": {},
     "output_type": "display_data"
    },
    {
     "name": "stdout",
     "output_type": "stream",
     "text": [
      "Training Loss: 4.2465\n",
      "Epoch 7/30\n",
      "Begin evaluation\n",
      "Epoch Test Acc: 0.785888\n",
      "Current model is saved.\n"
     ]
    },
    {
     "data": {
      "application/vnd.jupyter.widget-view+json": {
       "model_id": "6f78510a48084c7ca69ee57b57501d02",
       "version_major": 2,
       "version_minor": 0
      },
      "text/plain": [
       "  0%|          | 0/76 [00:00<?, ?it/s]"
      ]
     },
     "metadata": {},
     "output_type": "display_data"
    },
    {
     "name": "stdout",
     "output_type": "stream",
     "text": [
      "Training Loss: 3.6861\n",
      "Epoch 8/30\n",
      "Begin evaluation\n",
      "Epoch Test Acc: 0.771548\n"
     ]
    },
    {
     "data": {
      "application/vnd.jupyter.widget-view+json": {
       "model_id": "a4bf764f55644bf69fcddd5ba7c5bcbd",
       "version_major": 2,
       "version_minor": 0
      },
      "text/plain": [
       "  0%|          | 0/76 [00:00<?, ?it/s]"
      ]
     },
     "metadata": {},
     "output_type": "display_data"
    },
    {
     "name": "stdout",
     "output_type": "stream",
     "text": [
      "Training Loss: 3.0742\n",
      "Epoch 9/30\n",
      "Begin evaluation\n",
      "Epoch Test Acc: 0.778073\n"
     ]
    },
    {
     "data": {
      "application/vnd.jupyter.widget-view+json": {
       "model_id": "60c1552eaa604bb4bdaf6222898f5afc",
       "version_major": 2,
       "version_minor": 0
      },
      "text/plain": [
       "  0%|          | 0/76 [00:00<?, ?it/s]"
      ]
     },
     "metadata": {},
     "output_type": "display_data"
    },
    {
     "name": "stdout",
     "output_type": "stream",
     "text": [
      "Training Loss: 2.3966\n",
      "Epoch 10/30\n",
      "Begin evaluation\n",
      "Epoch Test Acc: 0.840288\n",
      "Current model is saved.\n"
     ]
    },
    {
     "data": {
      "application/vnd.jupyter.widget-view+json": {
       "model_id": "63da657699df4ffaba3fb431bb96e9df",
       "version_major": 2,
       "version_minor": 0
      },
      "text/plain": [
       "  0%|          | 0/76 [00:00<?, ?it/s]"
      ]
     },
     "metadata": {},
     "output_type": "display_data"
    },
    {
     "name": "stdout",
     "output_type": "stream",
     "text": [
      "Training Loss: 1.7267\n",
      "Epoch 11/30\n",
      "Begin evaluation\n",
      "Epoch Test Acc: 0.864340\n",
      "Current model is saved.\n"
     ]
    },
    {
     "data": {
      "application/vnd.jupyter.widget-view+json": {
       "model_id": "a54a1099601544f5858c6829e89c3c25",
       "version_major": 2,
       "version_minor": 0
      },
      "text/plain": [
       "  0%|          | 0/76 [00:00<?, ?it/s]"
      ]
     },
     "metadata": {},
     "output_type": "display_data"
    },
    {
     "name": "stdout",
     "output_type": "stream",
     "text": [
      "Training Loss: 1.1552\n",
      "Epoch 12/30\n",
      "Begin evaluation\n",
      "Epoch Test Acc: 0.890895\n",
      "Current model is saved.\n"
     ]
    },
    {
     "data": {
      "application/vnd.jupyter.widget-view+json": {
       "model_id": "3c75caf3a0cf48e69695f37ea2b35fde",
       "version_major": 2,
       "version_minor": 0
      },
      "text/plain": [
       "  0%|          | 0/76 [00:00<?, ?it/s]"
      ]
     },
     "metadata": {},
     "output_type": "display_data"
    },
    {
     "name": "stdout",
     "output_type": "stream",
     "text": [
      "Training Loss: 0.7134\n",
      "Epoch 13/30\n",
      "Begin evaluation\n",
      "Epoch Test Acc: 0.904780\n",
      "Current model is saved.\n"
     ]
    },
    {
     "data": {
      "application/vnd.jupyter.widget-view+json": {
       "model_id": "3099f3592d3f43869256b0debf190ea6",
       "version_major": 2,
       "version_minor": 0
      },
      "text/plain": [
       "  0%|          | 0/76 [00:00<?, ?it/s]"
      ]
     },
     "metadata": {},
     "output_type": "display_data"
    },
    {
     "name": "stdout",
     "output_type": "stream",
     "text": [
      "Training Loss: 0.4721\n",
      "Epoch 14/30\n",
      "Begin evaluation\n",
      "Epoch Test Acc: 0.912064\n",
      "Current model is saved.\n"
     ]
    },
    {
     "data": {
      "application/vnd.jupyter.widget-view+json": {
       "model_id": "44cabfd35e364408b72d46a1ee3b423b",
       "version_major": 2,
       "version_minor": 0
      },
      "text/plain": [
       "  0%|          | 0/76 [00:00<?, ?it/s]"
      ]
     },
     "metadata": {},
     "output_type": "display_data"
    },
    {
     "name": "stdout",
     "output_type": "stream",
     "text": [
      "Training Loss: 0.3166\n",
      "Epoch 15/30\n",
      "Begin evaluation\n",
      "Epoch Test Acc: 0.916464\n",
      "Current model is saved.\n"
     ]
    },
    {
     "data": {
      "application/vnd.jupyter.widget-view+json": {
       "model_id": "677658cbaea54b1ca09aff836b31d785",
       "version_major": 2,
       "version_minor": 0
      },
      "text/plain": [
       "  0%|          | 0/76 [00:00<?, ?it/s]"
      ]
     },
     "metadata": {},
     "output_type": "display_data"
    },
    {
     "name": "stdout",
     "output_type": "stream",
     "text": [
      "Training Loss: 0.2389\n",
      "Epoch 16/30\n",
      "Begin evaluation\n",
      "Epoch Test Acc: 0.925569\n",
      "Current model is saved.\n"
     ]
    },
    {
     "data": {
      "application/vnd.jupyter.widget-view+json": {
       "model_id": "26374097ed84422e9765df4f7f424242",
       "version_major": 2,
       "version_minor": 0
      },
      "text/plain": [
       "  0%|          | 0/76 [00:00<?, ?it/s]"
      ]
     },
     "metadata": {},
     "output_type": "display_data"
    },
    {
     "name": "stdout",
     "output_type": "stream",
     "text": [
      "Training Loss: 0.1801\n",
      "Epoch 17/30\n",
      "Begin evaluation\n",
      "Epoch Test Acc: 0.888771\n"
     ]
    },
    {
     "data": {
      "application/vnd.jupyter.widget-view+json": {
       "model_id": "b0120e4a238645c5ac744231addeb06d",
       "version_major": 2,
       "version_minor": 0
      },
      "text/plain": [
       "  0%|          | 0/76 [00:00<?, ?it/s]"
      ]
     },
     "metadata": {},
     "output_type": "display_data"
    },
    {
     "name": "stdout",
     "output_type": "stream",
     "text": [
      "Training Loss: 0.1657\n",
      "Epoch 18/30\n",
      "Begin evaluation\n",
      "Epoch Test Acc: 0.913657\n"
     ]
    },
    {
     "data": {
      "application/vnd.jupyter.widget-view+json": {
       "model_id": "7790369983ee4888b9e33a2262dd4219",
       "version_major": 2,
       "version_minor": 0
      },
      "text/plain": [
       "  0%|          | 0/76 [00:00<?, ?it/s]"
      ]
     },
     "metadata": {},
     "output_type": "display_data"
    },
    {
     "name": "stdout",
     "output_type": "stream",
     "text": [
      "Training Loss: 0.1258\n",
      "Epoch 19/30\n",
      "Begin evaluation\n",
      "Epoch Test Acc: 0.923217\n"
     ]
    },
    {
     "data": {
      "application/vnd.jupyter.widget-view+json": {
       "model_id": "0f8b1ee35ac34286974f811f1e93a046",
       "version_major": 2,
       "version_minor": 0
      },
      "text/plain": [
       "  0%|          | 0/76 [00:00<?, ?it/s]"
      ]
     },
     "metadata": {},
     "output_type": "display_data"
    },
    {
     "name": "stdout",
     "output_type": "stream",
     "text": [
      "Training Loss: 0.0999\n",
      "Epoch 20/30\n",
      "Begin evaluation\n",
      "Epoch Test Acc: 0.919575\n"
     ]
    },
    {
     "data": {
      "application/vnd.jupyter.widget-view+json": {
       "model_id": "6145922f86fc4230b167b77c76764b50",
       "version_major": 2,
       "version_minor": 0
      },
      "text/plain": [
       "  0%|          | 0/76 [00:00<?, ?it/s]"
      ]
     },
     "metadata": {},
     "output_type": "display_data"
    },
    {
     "name": "stdout",
     "output_type": "stream",
     "text": [
      "Training Loss: 0.0827\n",
      "Epoch 21/30\n",
      "Begin evaluation\n",
      "Epoch Test Acc: 0.916995\n"
     ]
    },
    {
     "data": {
      "application/vnd.jupyter.widget-view+json": {
       "model_id": "ab7585cb9bc84366a7b7b9182a63273b",
       "version_major": 2,
       "version_minor": 0
      },
      "text/plain": [
       "  0%|          | 0/76 [00:00<?, ?it/s]"
      ]
     },
     "metadata": {},
     "output_type": "display_data"
    },
    {
     "name": "stdout",
     "output_type": "stream",
     "text": [
      "Training Loss: 0.0704\n",
      "Epoch 22/30\n",
      "Begin evaluation\n",
      "Epoch Test Acc: 0.922382\n"
     ]
    },
    {
     "data": {
      "application/vnd.jupyter.widget-view+json": {
       "model_id": "9e3096df87ef4473b9d331dfb835c2f4",
       "version_major": 2,
       "version_minor": 0
      },
      "text/plain": [
       "  0%|          | 0/76 [00:00<?, ?it/s]"
      ]
     },
     "metadata": {},
     "output_type": "display_data"
    },
    {
     "name": "stdout",
     "output_type": "stream",
     "text": [
      "Training Loss: 0.0597\n",
      "Epoch 23/30\n",
      "Begin evaluation\n",
      "Epoch Test Acc: 0.916161\n"
     ]
    },
    {
     "data": {
      "application/vnd.jupyter.widget-view+json": {
       "model_id": "3d74e7bdeddd44c498cf5bebcadc88ff",
       "version_major": 2,
       "version_minor": 0
      },
      "text/plain": [
       "  0%|          | 0/76 [00:00<?, ?it/s]"
      ]
     },
     "metadata": {},
     "output_type": "display_data"
    },
    {
     "name": "stdout",
     "output_type": "stream",
     "text": [
      "Training Loss: 0.0515\n",
      "Epoch 24/30\n",
      "Begin evaluation\n",
      "Epoch Test Acc: 0.914947\n"
     ]
    },
    {
     "data": {
      "application/vnd.jupyter.widget-view+json": {
       "model_id": "adfe2274802e49be82e63dd248b83aca",
       "version_major": 2,
       "version_minor": 0
      },
      "text/plain": [
       "  0%|          | 0/76 [00:00<?, ?it/s]"
      ]
     },
     "metadata": {},
     "output_type": "display_data"
    },
    {
     "name": "stdout",
     "output_type": "stream",
     "text": [
      "Training Loss: 0.0419\n",
      "Epoch 25/30\n",
      "Begin evaluation\n",
      "Epoch Test Acc: 0.917830\n"
     ]
    },
    {
     "data": {
      "application/vnd.jupyter.widget-view+json": {
       "model_id": "861084571d45447ca7cc0beb596fe0dc",
       "version_major": 2,
       "version_minor": 0
      },
      "text/plain": [
       "  0%|          | 0/76 [00:00<?, ?it/s]"
      ]
     },
     "metadata": {},
     "output_type": "display_data"
    },
    {
     "name": "stdout",
     "output_type": "stream",
     "text": [
      "Training Loss: 0.0320\n",
      "Epoch 26/30\n",
      "Begin evaluation\n",
      "Epoch Test Acc: 0.922534\n"
     ]
    },
    {
     "data": {
      "application/vnd.jupyter.widget-view+json": {
       "model_id": "babedf7d24b54f3081164943788b18e9",
       "version_major": 2,
       "version_minor": 0
      },
      "text/plain": [
       "  0%|          | 0/76 [00:00<?, ?it/s]"
      ]
     },
     "metadata": {},
     "output_type": "display_data"
    },
    {
     "name": "stdout",
     "output_type": "stream",
     "text": [
      "Training Loss: 0.0242\n",
      "Epoch 27/30\n",
      "Begin evaluation\n",
      "Epoch Test Acc: 0.923520\n"
     ]
    },
    {
     "data": {
      "application/vnd.jupyter.widget-view+json": {
       "model_id": "652c1d124e7249f8b19a415b0b1b1023",
       "version_major": 2,
       "version_minor": 0
      },
      "text/plain": [
       "  0%|          | 0/76 [00:00<?, ?it/s]"
      ]
     },
     "metadata": {},
     "output_type": "display_data"
    },
    {
     "name": "stdout",
     "output_type": "stream",
     "text": [
      "Training Loss: 0.0227\n",
      "Epoch 28/30\n",
      "Begin evaluation\n",
      "Epoch Test Acc: 0.918285\n"
     ]
    },
    {
     "data": {
      "application/vnd.jupyter.widget-view+json": {
       "model_id": "9d036265b0614da0bacf3e44e6fa676c",
       "version_major": 2,
       "version_minor": 0
      },
      "text/plain": [
       "  0%|          | 0/76 [00:00<?, ?it/s]"
      ]
     },
     "metadata": {},
     "output_type": "display_data"
    },
    {
     "name": "stdout",
     "output_type": "stream",
     "text": [
      "Training Loss: 0.0219\n",
      "Epoch 29/30\n",
      "Begin evaluation\n",
      "Epoch Test Acc: 0.914643\n"
     ]
    },
    {
     "data": {
      "application/vnd.jupyter.widget-view+json": {
       "model_id": "3cfbdb87ccd74e689d0fec7ce5c12ab5",
       "version_major": 2,
       "version_minor": 0
      },
      "text/plain": [
       "  0%|          | 0/76 [00:00<?, ?it/s]"
      ]
     },
     "metadata": {},
     "output_type": "display_data"
    },
    {
     "name": "stdout",
     "output_type": "stream",
     "text": [
      "Training Loss: 0.0219\n",
      "Epoch 30/30\n",
      "Begin evaluation\n",
      "Epoch Test Acc: 0.916616\n"
     ]
    },
    {
     "data": {
      "application/vnd.jupyter.widget-view+json": {
       "model_id": "748d40e700b84f37a06650cb75d6c864",
       "version_major": 2,
       "version_minor": 0
      },
      "text/plain": [
       "  0%|          | 0/76 [00:00<?, ?it/s]"
      ]
     },
     "metadata": {},
     "output_type": "display_data"
    },
    {
     "name": "stdout",
     "output_type": "stream",
     "text": [
      "Training Loss: 0.0219\n",
      "Training complete in 20m 43s\n"
     ]
    }
   ],
   "source": [
    "# create a pretrained model, train the last fully connected layer using suprvised learning on base classes\n",
    "model_3 = resnet18(pretrained=True, device=device, file='/state_dicts/resnet18.pt')\n",
    "num_ftrs = model_3.fc.in_features\n",
    "model_3.fc = nn.Linear(num_ftrs, num_class.item())\n",
    "nll_loss = torch.nn.NLLLoss()\n",
    "\n",
    "for param in model_3.parameters():\n",
    "    param.requires_grad = True\n",
    "\n",
    "m3_optimizer = optim.SGD(model_3.parameters(), lr=0.1)\n",
    "m3_scheduler = lr_scheduler.MultiStepLR(m3_optimizer, milestones=[24, 27], gamma=0.1)\n",
    "      \n",
    "model_3 = train_model(model_3, nll_loss, supervised_train_loader, test_loader, m3_optimizer, m3_scheduler, 30, 'model_3.pth', triplet=False) "
   ]
  },
  {
   "cell_type": "code",
   "execution_count": null,
   "metadata": {},
   "outputs": [],
   "source": []
  }
 ],
 "metadata": {
  "kernelspec": {
   "display_name": "Python 3",
   "language": "python",
   "name": "python3"
  },
  "language_info": {
   "codemirror_mode": {
    "name": "ipython",
    "version": 3
   },
   "file_extension": ".py",
   "mimetype": "text/x-python",
   "name": "python",
   "nbconvert_exporter": "python",
   "pygments_lexer": "ipython3",
   "version": "3.8.8"
  },
  "toc": {
   "base_numbering": 1,
   "nav_menu": {},
   "number_sections": true,
   "sideBar": true,
   "skip_h1_title": false,
   "title_cell": "Table of Contents",
   "title_sidebar": "Contents",
   "toc_cell": false,
   "toc_position": {},
   "toc_section_display": true,
   "toc_window_display": false
  }
 },
 "nbformat": 4,
 "nbformat_minor": 4
}
